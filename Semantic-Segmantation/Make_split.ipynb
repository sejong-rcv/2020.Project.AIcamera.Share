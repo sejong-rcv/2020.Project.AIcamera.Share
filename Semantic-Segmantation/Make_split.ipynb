{
 "cells": [
  {
   "cell_type": "code",
   "execution_count": 1,
   "metadata": {},
   "outputs": [],
   "source": [
    "import os \n",
    "import cv2\n",
    "root=\"./ir_seg_dataset/\""
   ]
  },
  {
   "cell_type": "code",
   "execution_count": 10,
   "metadata": {},
   "outputs": [],
   "source": [
    "\n",
    "for i in os.listdir(os.path.join(root,\"images\")):\n",
    "    if i[0]==\".\":\n",
    "        continue\n",
    "    img=cv2.imread(os.path.join(root,\"images\",i),cv2.IMREAD_UNCHANGED)\n",
    "    rgb=img[:,:,:3]\n",
    "    thermal=img[:,:,3:]\n",
    "    \n",
    "    cv2.imwrite(os.path.join(root,\"split_rgb\",i),rgb)\n",
    "    cv2.imwrite(os.path.join(root,\"split_thr\",i),thermal)"
   ]
  },
  {
   "cell_type": "code",
   "execution_count": 2,
   "metadata": {},
   "outputs": [],
   "source": [
    "! mkdir /data/datasets/ir_seg_dataset/split_rgb\n",
    "! mkdir /data/datasets/ir_seg_dataset/split_thr"
   ]
  },
  {
   "cell_type": "code",
   "execution_count": null,
   "metadata": {},
   "outputs": [],
   "source": []
  }
 ],
 "metadata": {
  "kernelspec": {
   "display_name": "Python 3",
   "language": "python",
   "name": "python3"
  },
  "language_info": {
   "codemirror_mode": {
    "name": "ipython",
    "version": 3
   },
   "file_extension": ".py",
   "mimetype": "text/x-python",
   "name": "python",
   "nbconvert_exporter": "python",
   "pygments_lexer": "ipython3",
   "version": "3.7.9"
  }
 },
 "nbformat": 4,
 "nbformat_minor": 4
}
